{
 "cells": [
  {
   "cell_type": "markdown",
   "metadata": {},
   "source": [
    "# Embolization Twitter Analysis"
   ]
  },
  {
   "cell_type": "code",
   "execution_count": 1,
   "metadata": {},
   "outputs": [],
   "source": [
    "import numpy as np # Imports\n",
    "import pandas as pd\n",
    "from scipy import stats\n",
    "from statistics import mean, stdev\n",
    "import requests\n",
    "import re\n",
    "import ast\n"
   ]
  },
  {
   "cell_type": "code",
   "execution_count": 2,
   "metadata": {},
   "outputs": [],
   "source": [
    "data = pd.read_csv('embolization.csv') #Reading in the CSV"
   ]
  },
  {
   "cell_type": "code",
   "execution_count": 3,
   "metadata": {},
   "outputs": [
    {
     "data": {
      "text/plain": [
       "Index(['tweet_id', 'username', 'name', 'profile_picture', 'replies',\n",
       "       'retweets', 'likes', 'is_retweet', 'posted_time', 'content', 'hashtags',\n",
       "       'mentions', 'images', 'videos', 'tweet_url', 'link'],\n",
       "      dtype='object')"
      ]
     },
     "execution_count": 3,
     "metadata": {},
     "output_type": "execute_result"
    }
   ],
   "source": [
    "data.columns #The columns in the CSV"
   ]
  },
  {
   "cell_type": "code",
   "execution_count": 4,
   "metadata": {},
   "outputs": [
    {
     "data": {
      "text/html": [
       "<div>\n",
       "<style scoped>\n",
       "    .dataframe tbody tr th:only-of-type {\n",
       "        vertical-align: middle;\n",
       "    }\n",
       "\n",
       "    .dataframe tbody tr th {\n",
       "        vertical-align: top;\n",
       "    }\n",
       "\n",
       "    .dataframe thead th {\n",
       "        text-align: right;\n",
       "    }\n",
       "</style>\n",
       "<table border=\"1\" class=\"dataframe\">\n",
       "  <thead>\n",
       "    <tr style=\"text-align: right;\">\n",
       "      <th></th>\n",
       "      <th>tweet_id</th>\n",
       "      <th>username</th>\n",
       "      <th>name</th>\n",
       "      <th>profile_picture</th>\n",
       "      <th>replies</th>\n",
       "      <th>retweets</th>\n",
       "      <th>likes</th>\n",
       "      <th>is_retweet</th>\n",
       "      <th>posted_time</th>\n",
       "      <th>content</th>\n",
       "      <th>hashtags</th>\n",
       "      <th>mentions</th>\n",
       "      <th>images</th>\n",
       "      <th>videos</th>\n",
       "      <th>tweet_url</th>\n",
       "      <th>link</th>\n",
       "    </tr>\n",
       "  </thead>\n",
       "  <tbody>\n",
       "    <tr>\n",
       "      <th>0</th>\n",
       "      <td>1579179890334736385</td>\n",
       "      <td>MountSinaiNeuro</td>\n",
       "      <td>Mount Sinai Neurosurgery</td>\n",
       "      <td>https://pbs.twimg.com/profile_images/933014890...</td>\n",
       "      <td>0</td>\n",
       "      <td>2</td>\n",
       "      <td>19</td>\n",
       "      <td>False</td>\n",
       "      <td>2022-10-09T18:40:00+00:00</td>\n",
       "      <td>@Neurosurgery\\n Clinical Trial Results at #202...</td>\n",
       "      <td>['2022CNS', 'aneurysm', 'embolization', 'Neuro...</td>\n",
       "      <td>['Neurosurgery', 'JMoccoMD', 'MountSinaiNeuro'...</td>\n",
       "      <td>['https://pbs.twimg.com/media/FepZ8yQVIAAZ0Ox?...</td>\n",
       "      <td>[]</td>\n",
       "      <td>https://twitter.com/MountSinaiNeuro/status/157...</td>\n",
       "      <td>NaN</td>\n",
       "    </tr>\n",
       "    <tr>\n",
       "      <th>1</th>\n",
       "      <td>1579178650947424256</td>\n",
       "      <td>0kanGurkan</td>\n",
       "      <td>Okan Gürkan</td>\n",
       "      <td>https://pbs.twimg.com/profile_images/157903658...</td>\n",
       "      <td>0</td>\n",
       "      <td>1</td>\n",
       "      <td>2</td>\n",
       "      <td>False</td>\n",
       "      <td>2022-10-09T18:35:04+00:00</td>\n",
       "      <td>Trancathater #genicular #artery #embolization ...</td>\n",
       "      <td>['genicular', 'artery', 'embolization']</td>\n",
       "      <td>[]</td>\n",
       "      <td>['https://pbs.twimg.com/media/FepeblHWQAAWenT?...</td>\n",
       "      <td>[]</td>\n",
       "      <td>https://twitter.com/0kanGurkan/status/15791786...</td>\n",
       "      <td>NaN</td>\n",
       "    </tr>\n",
       "    <tr>\n",
       "      <th>2</th>\n",
       "      <td>1579152927612366848</td>\n",
       "      <td>adelmaged9</td>\n",
       "      <td>adel maged</td>\n",
       "      <td>https://pbs.twimg.com/profile_images/157160468...</td>\n",
       "      <td>0</td>\n",
       "      <td>0</td>\n",
       "      <td>0</td>\n",
       "      <td>False</td>\n",
       "      <td>2022-10-09T16:52:51+00:00</td>\n",
       "      <td>LV thrombus\\nAcute limb ischemia is suspected ...</td>\n",
       "      <td>[]</td>\n",
       "      <td>[]</td>\n",
       "      <td>[]</td>\n",
       "      <td>[]</td>\n",
       "      <td>https://twitter.com/adelmaged9/status/15791529...</td>\n",
       "      <td>NaN</td>\n",
       "    </tr>\n",
       "    <tr>\n",
       "      <th>3</th>\n",
       "      <td>1578988028345085952</td>\n",
       "      <td>erdman_janiya</td>\n",
       "      <td>Janiya_Erdman</td>\n",
       "      <td>https://pbs.twimg.com/profile_images/155467774...</td>\n",
       "      <td>0</td>\n",
       "      <td>0</td>\n",
       "      <td>0</td>\n",
       "      <td>False</td>\n",
       "      <td>2022-10-09T05:57:36+00:00</td>\n",
       "      <td>Embolization Therapy: Principles and Clinical ...</td>\n",
       "      <td>[]</td>\n",
       "      <td>[]</td>\n",
       "      <td>[]</td>\n",
       "      <td>[]</td>\n",
       "      <td>https://twitter.com/erdman_janiya/status/15789...</td>\n",
       "      <td>https://t.co/1B6ZieL3N7</td>\n",
       "    </tr>\n",
       "    <tr>\n",
       "      <th>4</th>\n",
       "      <td>1578852335404879872</td>\n",
       "      <td>thegestgroup</td>\n",
       "      <td>GEST -Global Embolization Symposium &amp; Technolo...</td>\n",
       "      <td>https://pbs.twimg.com/profile_images/118210273...</td>\n",
       "      <td>1</td>\n",
       "      <td>1</td>\n",
       "      <td>10</td>\n",
       "      <td>True</td>\n",
       "      <td>2022-10-08T20:58:25+00:00</td>\n",
       "      <td>@SidpadiaIR\\n is one of the Course Directors f...</td>\n",
       "      <td>[]</td>\n",
       "      <td>['SidpadiaIR']</td>\n",
       "      <td>['https://pbs.twimg.com/media/FekBkkTXwAE80r7?...</td>\n",
       "      <td>[]</td>\n",
       "      <td>https://twitter.com/thegestgroup/status/157885...</td>\n",
       "      <td>NaN</td>\n",
       "    </tr>\n",
       "  </tbody>\n",
       "</table>\n",
       "</div>"
      ],
      "text/plain": [
       "              tweet_id         username  \\\n",
       "0  1579179890334736385  MountSinaiNeuro   \n",
       "1  1579178650947424256       0kanGurkan   \n",
       "2  1579152927612366848       adelmaged9   \n",
       "3  1578988028345085952    erdman_janiya   \n",
       "4  1578852335404879872     thegestgroup   \n",
       "\n",
       "                                                name  \\\n",
       "0                           Mount Sinai Neurosurgery   \n",
       "1                                        Okan Gürkan   \n",
       "2                                         adel maged   \n",
       "3                                      Janiya_Erdman   \n",
       "4  GEST -Global Embolization Symposium & Technolo...   \n",
       "\n",
       "                                     profile_picture  replies  retweets  \\\n",
       "0  https://pbs.twimg.com/profile_images/933014890...        0         2   \n",
       "1  https://pbs.twimg.com/profile_images/157903658...        0         1   \n",
       "2  https://pbs.twimg.com/profile_images/157160468...        0         0   \n",
       "3  https://pbs.twimg.com/profile_images/155467774...        0         0   \n",
       "4  https://pbs.twimg.com/profile_images/118210273...        1         1   \n",
       "\n",
       "   likes  is_retweet                posted_time  \\\n",
       "0     19       False  2022-10-09T18:40:00+00:00   \n",
       "1      2       False  2022-10-09T18:35:04+00:00   \n",
       "2      0       False  2022-10-09T16:52:51+00:00   \n",
       "3      0       False  2022-10-09T05:57:36+00:00   \n",
       "4     10        True  2022-10-08T20:58:25+00:00   \n",
       "\n",
       "                                             content  \\\n",
       "0  @Neurosurgery\\n Clinical Trial Results at #202...   \n",
       "1  Trancathater #genicular #artery #embolization ...   \n",
       "2  LV thrombus\\nAcute limb ischemia is suspected ...   \n",
       "3  Embolization Therapy: Principles and Clinical ...   \n",
       "4  @SidpadiaIR\\n is one of the Course Directors f...   \n",
       "\n",
       "                                            hashtags  \\\n",
       "0  ['2022CNS', 'aneurysm', 'embolization', 'Neuro...   \n",
       "1            ['genicular', 'artery', 'embolization']   \n",
       "2                                                 []   \n",
       "3                                                 []   \n",
       "4                                                 []   \n",
       "\n",
       "                                            mentions  \\\n",
       "0  ['Neurosurgery', 'JMoccoMD', 'MountSinaiNeuro'...   \n",
       "1                                                 []   \n",
       "2                                                 []   \n",
       "3                                                 []   \n",
       "4                                     ['SidpadiaIR']   \n",
       "\n",
       "                                              images videos  \\\n",
       "0  ['https://pbs.twimg.com/media/FepZ8yQVIAAZ0Ox?...     []   \n",
       "1  ['https://pbs.twimg.com/media/FepeblHWQAAWenT?...     []   \n",
       "2                                                 []     []   \n",
       "3                                                 []     []   \n",
       "4  ['https://pbs.twimg.com/media/FekBkkTXwAE80r7?...     []   \n",
       "\n",
       "                                           tweet_url                     link  \n",
       "0  https://twitter.com/MountSinaiNeuro/status/157...                      NaN  \n",
       "1  https://twitter.com/0kanGurkan/status/15791786...                      NaN  \n",
       "2  https://twitter.com/adelmaged9/status/15791529...                      NaN  \n",
       "3  https://twitter.com/erdman_janiya/status/15789...  https://t.co/1B6ZieL3N7  \n",
       "4  https://twitter.com/thegestgroup/status/157885...                      NaN  "
      ]
     },
     "execution_count": 4,
     "metadata": {},
     "output_type": "execute_result"
    }
   ],
   "source": [
    "data.head() #A sample of the top of the CSV"
   ]
  },
  {
   "cell_type": "markdown",
   "metadata": {},
   "source": [
    "## 2 Sided T-tests "
   ]
  },
  {
   "cell_type": "markdown",
   "metadata": {},
   "source": [
    "Comparing the amount of likes with an image attached or no image, and there is a significant change"
   ]
  },
  {
   "cell_type": "code",
   "execution_count": 5,
   "metadata": {},
   "outputs": [
    {
     "data": {
      "text/plain": [
       "Ttest_indResult(statistic=-8.646123593413298, pvalue=1.457381123262676e-17)"
      ]
     },
     "execution_count": 5,
     "metadata": {},
     "output_type": "execute_result"
    }
   ],
   "source": [
    "stats.ttest_ind(data['likes'].values, data[data['images'] != \"[]\"][\"likes\"].values, trim=.2) #Evaluating if there is a significant change in the amount of likes if you include an image, and there the ttest is statistically significant"
   ]
  },
  {
   "cell_type": "code",
   "execution_count": 6,
   "metadata": {},
   "outputs": [
    {
     "name": "stdout",
     "output_type": "stream",
     "text": [
      "9\n",
      "15\n"
     ]
    }
   ],
   "source": [
    "print(mean(data['likes'].values))\n",
    "print(mean(data[data['images'] != \"[]\"][\"likes\"].values)) #Shows that the mean of the amount of likes is much higher with images"
   ]
  },
  {
   "cell_type": "markdown",
   "metadata": {},
   "source": [
    "Comparing the amount of likes with hashtags, and there is a significant change"
   ]
  },
  {
   "cell_type": "code",
   "execution_count": 7,
   "metadata": {},
   "outputs": [],
   "source": [
    "data.hashtags = data.hashtags.apply(lambda s: list(ast.literal_eval(s))) #Changing the format of the strings"
   ]
  },
  {
   "cell_type": "code",
   "execution_count": 8,
   "metadata": {},
   "outputs": [
    {
     "data": {
      "text/plain": [
       "Ttest_indResult(statistic=-3.1515501973456175, pvalue=0.001660415436384642)"
      ]
     },
     "execution_count": 8,
     "metadata": {},
     "output_type": "execute_result"
    }
   ],
   "source": [
    "stats.ttest_ind(data['likes'].values, data[data['hashtags'].map(len) > 0][\"likes\"].values, trim=.2) #Did the same as above, but with the hastags instead"
   ]
  },
  {
   "cell_type": "code",
   "execution_count": 9,
   "metadata": {},
   "outputs": [
    {
     "name": "stdout",
     "output_type": "stream",
     "text": [
      "9\n",
      "9\n"
     ]
    }
   ],
   "source": [
    "print(mean(data['likes'].values))\n",
    "print(mean(data[data['hashtags'].map(len) > 0][\"likes\"].values)) #Shows that the mean is the same, strange result"
   ]
  },
  {
   "cell_type": "code",
   "execution_count": 10,
   "metadata": {},
   "outputs": [
    {
     "name": "stdout",
     "output_type": "stream",
     "text": [
      "26.248809496813376\n",
      "22.80350850198276\n"
     ]
    }
   ],
   "source": [
    "print(stdev(data['likes'].values))\n",
    "print(stdev(data[data['hashtags'].map(len) > 0][\"likes\"].values)) #Shows that the stdev of the hastags is smaller, representing a tighter distribution, and maybe the likes are skewed to a higher number by outliers"
   ]
  },
  {
   "cell_type": "markdown",
   "metadata": {},
   "source": [
    "### Hashtags"
   ]
  },
  {
   "cell_type": "code",
   "execution_count": 11,
   "metadata": {},
   "outputs": [],
   "source": [
    "hashtagDict = {} # Getting the hashtags and the amount of likes they have, eliminating hashtags with just one tweet\n",
    "\n",
    "for index, row in data.iterrows():\n",
    "    for hashtag in row['hashtags']:\n",
    "        if hashtag in hashtagDict:\n",
    "            hashtagDict[hashtag].append(row['likes'])\n",
    "        else:\n",
    "            hashtagDict[hashtag] = [row['likes']]\n",
    "\n",
    "hashtagDictFil = {}\n",
    "for item in hashtagDict:\n",
    "    if len(hashtagDict[item]) > 1:\n",
    "        hashtagDictFil[item] = sum(hashtagDict[item])"
   ]
  },
  {
   "cell_type": "code",
   "execution_count": 12,
   "metadata": {},
   "outputs": [
    {
     "data": {
      "text/plain": [
       "{'embolization': 908,\n",
       " 'irad': 747,\n",
       " 'IRad': 672,\n",
       " 'Embolization': 669,\n",
       " 'SNIS2022': 568,\n",
       " 'CSDH': 240,\n",
       " 'Neurointervention': 222,\n",
       " 'interventionalradiology': 207,\n",
       " 'PAE': 197,\n",
       " 'Fibroids': 173,\n",
       " 'IR': 159,\n",
       " 'Neurosurgery': 142,\n",
       " 'UFE': 139,\n",
       " 'radiology': 134,\n",
       " 'CIRSE2022': 125,\n",
       " 'MedTwitter': 124,\n",
       " 'IRAD': 123,\n",
       " 'cSDH': 120,\n",
       " 'MMA': 118,\n",
       " 'MedEd': 113,\n",
       " 'Chestrad': 105,\n",
       " 'surgery': 104,\n",
       " 'BPH': 99,\n",
       " 'jvir': 93,\n",
       " 'SIH': 91,\n",
       " 'Vascular': 90,\n",
       " 'prostate': 89,\n",
       " 'RelentlessPursuit': 82,\n",
       " 'MensHealth': 82,\n",
       " 'radres': 81,\n",
       " 'TAEGR': 81,\n",
       " 'Hemorrhoid': 78,\n",
       " 'TwittIR': 76,\n",
       " 'endovascular': 75,\n",
       " 'ThyroidRFA': 75,\n",
       " 'Endotwitter': 75,\n",
       " 'fibroid': 72,\n",
       " 'neurosurgery': 67,\n",
       " 'CSFVF': 67,\n",
       " 'trauma': 66,\n",
       " 'iRad': 65,\n",
       " 'fibroidawareness': 64,\n",
       " 'Artery': 63,\n",
       " 'Commentary': 61,\n",
       " 'IRadRes': 58,\n",
       " 'INR': 58,\n",
       " 'SDH': 58,\n",
       " 'cancer': 54,\n",
       " 'LiverCancerAwarenessMonth': 52,\n",
       " 'oncology': 51,\n",
       " 'fibroids': 51,\n",
       " 'Irad': 50,\n",
       " 'kidneycancer': 50,\n",
       " 'twittIR': 50,\n",
       " 'MSK': 48,\n",
       " 'embolotherapy': 48,\n",
       " 'aneurysm': 47,\n",
       " 'STREAM2022': 47,\n",
       " 'FOAMrad': 47,\n",
       " 'Osteoarthritis': 47,\n",
       " 'MorningPaper': 47,\n",
       " 'UAE': 47,\n",
       " 'research': 47,\n",
       " 'minimallyinvasive': 45,\n",
       " 'LiverTwitter': 41,\n",
       " 'IO': 41,\n",
       " 'meningiomas': 40,\n",
       " 'subdural': 38,\n",
       " 'ET2022': 37,\n",
       " 'IRads': 35,\n",
       " 'PAIRS_RFS': 34,\n",
       " 'neuroendovascular': 33,\n",
       " 'geniculararteryembolization': 32,\n",
       " 'GEST2022': 32,\n",
       " 'IReadForYou': 31,\n",
       " 'Nephrectomy': 31,\n",
       " 'brainaneurysm': 31,\n",
       " 'CVF': 30,\n",
       " 'hemoptysis': 29,\n",
       " 'AVMs': 29,\n",
       " 'microsurgery': 29,\n",
       " 'JNSCaseLessons': 28,\n",
       " 'EVS2022': 28,\n",
       " 'EMBOLDcoils': 28,\n",
       " 'interventionaloncology': 27,\n",
       " 'InterventionalRadiology': 27,\n",
       " 'Radiology': 26,\n",
       " 'CookVista': 26,\n",
       " 'EchoFirst': 25,\n",
       " 'transcatheter': 25,\n",
       " 'mitral': 25,\n",
       " 'TechniqueTuesday': 25,\n",
       " 'medtwitter': 24,\n",
       " 'TheSundayRead': 23,\n",
       " 'Interventional': 23,\n",
       " 'Urology': 23,\n",
       " 'Neurology': 22,\n",
       " 'ESMINT2022': 22,\n",
       " 'بدون_جراحة': 22,\n",
       " 'cerebrovascular': 22,\n",
       " 'Onyx': 22,\n",
       " 'VOGM': 22,\n",
       " 'Fibroid': 20,\n",
       " 'GEST2023': 20,\n",
       " 'radioembolization': 20,\n",
       " 'withoutascalpel': 20,\n",
       " 'Liver': 18,\n",
       " 'endovascularsurgery': 18,\n",
       " 'interventional': 18,\n",
       " 'onyx': 18,\n",
       " 'TwitterIR': 17,\n",
       " 'OpenAccess': 17,\n",
       " 'AJIR': 16,\n",
       " 'irads': 15,\n",
       " 'urology': 14,\n",
       " 'NewIssue': 14,\n",
       " 'InterventionalNeuroradiology': 14,\n",
       " 'HCC': 13,\n",
       " 'VascTwitter': 13,\n",
       " 'vascularsurgery': 12,\n",
       " 'hematoma': 12,\n",
       " 'TACE': 12,\n",
       " 'ECIOtakeover': 12,\n",
       " 'embolisation': 12,\n",
       " 'balt': 11,\n",
       " 'varicocele': 11,\n",
       " 'mmae': 11,\n",
       " 'peripheralembolization': 10,\n",
       " 'Treatment': 10,\n",
       " 'coronary': 10,\n",
       " 'CaseReport': 10,\n",
       " 'MRI': 10,\n",
       " 'womenshealth': 9,\n",
       " 'JACCCaseReports': 9,\n",
       " 'RareDisease': 9,\n",
       " 'TMVR': 9,\n",
       " 'vascular': 8,\n",
       " 'GPXembolic': 8,\n",
       " 'JVSCITTweetChat': 8,\n",
       " 'urologist': 8,\n",
       " 'Indy': 8,\n",
       " 'PVE': 8,\n",
       " 'GEM': 8,\n",
       " 'SIRS_Varicocele': 8,\n",
       " 'interventional_radiology': 8,\n",
       " 'دوالي_الخصية': 8,\n",
       " 'FibroidAwarenessMonth': 8,\n",
       " 'ufe': 8,\n",
       " 'Angiography': 8,\n",
       " 'Uterine': 7,\n",
       " 'GPXEmbolic': 7,\n",
       " 'UterineFibroids': 7,\n",
       " 'neuroradiology': 7,\n",
       " 'PCI': 6,\n",
       " 'UterineFibroidEmbolization': 6,\n",
       " 'pregnancy': 6,\n",
       " 'ICYM': 6,\n",
       " 'genicular': 5,\n",
       " 'artery': 5,\n",
       " 'ELEC2022': 5,\n",
       " 'FibroidCenters': 5,\n",
       " 'thrombectomy': 5,\n",
       " 'CEOG': 5,\n",
       " 'nano': 5,\n",
       " 'EACTS2022': 4,\n",
       " 'aorticaneurysm': 4,\n",
       " 'UterineFibroid': 4,\n",
       " 'interventionalradiologist': 4,\n",
       " 'pulmonary': 4,\n",
       " 'Aneurysm': 4,\n",
       " 'SIR22BOS': 4,\n",
       " 'UterineFibroidAwarenessMonth': 4,\n",
       " 'radiologist': 4,\n",
       " 'healthcareinnovation': 3,\n",
       " 'uterinefibroids': 3,\n",
       " 'FibroidFighters': 3,\n",
       " 'RadRes': 3,\n",
       " 'Symptoms': 3,\n",
       " 'drmohalbanker': 3,\n",
       " 'cardiotwitter': 3,\n",
       " 'Varicocele': 3,\n",
       " 'Endovascular': 3,\n",
       " 'cardiology': 3,\n",
       " 'Cardiology': 3,\n",
       " 'Cardiotwitter': 3,\n",
       " 'M': 3,\n",
       " 'medtech': 3,\n",
       " 'FOAMed': 3,\n",
       " 'PolishHeartJournal': 2,\n",
       " 'HeartNews': 2,\n",
       " '2': 2,\n",
       " 'ICYMI': 2,\n",
       " 'Procedure': 2,\n",
       " 'TAVR': 2,\n",
       " 'livercancer': 2,\n",
       " 'biotech': 2,\n",
       " 'JACR': 2,\n",
       " 'imaging': 2,\n",
       " 'Options': 2,\n",
       " 'USA': 1,\n",
       " 'ScienceOnline': 1,\n",
       " 'Science_online': 1,\n",
       " 'menshealth': 1,\n",
       " 'uterinefibroidembolization': 1,\n",
       " 'uterinehealth': 1,\n",
       " 'varicocelectomy': 1,\n",
       " 'maleinfertility': 1,\n",
       " 'robot': 1,\n",
       " 'varicoceleembolization': 1,\n",
       " 'UFETampa': 1,\n",
       " 'UterineFibroidDoctorTampa': 1,\n",
       " 'FibroidTreatmentCenterTampa': 1,\n",
       " 'Enlargedprostate': 1,\n",
       " 'prostatecancer': 1,\n",
       " 'VIC': 1,\n",
       " 'PAD': 1,\n",
       " 'FLOW': 1,\n",
       " 'CLIFighters': 1,\n",
       " 'KnowMoreNoAmputation': 1,\n",
       " 'tumour': 1,\n",
       " 'CoilsinCombo': 1,\n",
       " 'CoilFiberStudy': 1,\n",
       " 'malefertility': 1,\n",
       " 'azoospermia': 1,\n",
       " 'sperm': 1,\n",
       " 'lowsperm': 1,\n",
       " 'ivf': 1,\n",
       " 'women': 1,\n",
       " 'ECM': 1,\n",
       " 'man': 0,\n",
       " 'maleprostate': 0,\n",
       " 'prostatehealth': 0,\n",
       " 'preprints': 0,\n",
       " 'varicocelesurgery': 0,\n",
       " 'varicoceletreatment': 0,\n",
       " 'varicocelecure': 0,\n",
       " 'drshaileshgupta': 0,\n",
       " 'choithramhospital': 0,\n",
       " 'fibroidsurgery': 0,\n",
       " 'uterus': 0,\n",
       " 'indore': 0,\n",
       " 'UFESpringHillFL': 0,\n",
       " 'UterineFibroidDoctorSpringHillFL': 0,\n",
       " 'FibroidTreatmentCenterSpringHillFL': 0,\n",
       " 'nonsurgical': 0,\n",
       " 'GeneralSurgery': 0,\n",
       " 'Y90': 0,\n",
       " 'marketresearch': 0,\n",
       " 'hypervascular': 0,\n",
       " 'FortisHospital': 0,\n",
       " 'NewDelhi': 0,\n",
       " 'clinicaltrial': 0,\n",
       " 'microcatheter': 0,\n",
       " 'sniper': 0,\n",
       " 'stroke': 0,\n",
       " 'interventionalneuroradiology': 0,\n",
       " 'VascularSurgery': 0,\n",
       " 'Embolic': 0,\n",
       " 'ircc': 0,\n",
       " 'irccpakistan': 0,\n",
       " 'drshahbaz': 0,\n",
       " 'radiofrequency': 0,\n",
       " 'interventions': 0,\n",
       " 'microwaveablation': 0,\n",
       " 'varicoceles': 0,\n",
       " 'varicocelepain': 0,\n",
       " 'Adenomyosis': 0,\n",
       " 'myomectomy': 0,\n",
       " 'hysterectomy': 0,\n",
       " 'VasantKunj': 0,\n",
       " 'LINC2022': 0,\n",
       " 'Fortis': 0,\n",
       " 'Hospital': 0,\n",
       " 'Health': 0,\n",
       " 'Wellness': 0,\n",
       " 'Wellnessomega': 0,\n",
       " 'Waellenss': 0,\n",
       " 'ENGins': 0,\n",
       " 'varicocelehometreatment': 0,\n",
       " 'Robotics': 0,\n",
       " 'SEO': 0,\n",
       " 'Google': 0,\n",
       " 'Apple': 0,\n",
       " 'IOS': 0,\n",
       " 'cybersecurity': 0,\n",
       " 'IOT': 0,\n",
       " 'AI': 0,\n",
       " 'software': 0,\n",
       " 'telecom': 0,\n",
       " 'AJNRAmJNeuroradiol': 0,\n",
       " 'cancerprevention': 0,\n",
       " 'tbrc': 0,\n",
       " 'businessresearch': 0,\n",
       " 'NVP': 0}"
      ]
     },
     "execution_count": 12,
     "metadata": {},
     "output_type": "execute_result"
    }
   ],
   "source": [
    "{k: v for k, v in sorted(hashtagDictFil.items(), key=lambda item: item[1], reverse=True)} #sorting by highest value"
   ]
  },
  {
   "cell_type": "code",
   "execution_count": 13,
   "metadata": {},
   "outputs": [],
   "source": [
    "hashtagFullDict = {} #Getting the number of likes per tweet with the hashtag\n",
    "\n",
    "for index, row in data.iterrows():\n",
    "    for hashtag in row['hashtags']:\n",
    "        if hashtag in hashtagFullDict:\n",
    "            hashtagFullDict[hashtag].append(row['likes'])\n",
    "        else:\n",
    "            hashtagFullDict[hashtag] = [row['likes']]"
   ]
  },
  {
   "cell_type": "markdown",
   "metadata": {},
   "source": [
    "General hashtags (IR or MedTwitter) won't gain as much traction as just putting the topic as the hashtag. While a general audience will see it with the hashtag, it won't get more engagement"
   ]
  },
  {
   "cell_type": "code",
   "execution_count": 14,
   "metadata": {},
   "outputs": [
    {
     "data": {
      "text/plain": [
       "Ttest_indResult(statistic=-1.4752296624357657, pvalue=0.14417612214930423)"
      ]
     },
     "execution_count": 14,
     "metadata": {},
     "output_type": "execute_result"
    }
   ],
   "source": [
    "stats.ttest_ind(hashtagFullDict[\"embolization\"], hashtagFullDict[\"IR\"], trim=.2) #Embolization vs IR"
   ]
  },
  {
   "cell_type": "code",
   "execution_count": 15,
   "metadata": {},
   "outputs": [
    {
     "name": "stdout",
     "output_type": "stream",
     "text": [
      "8.035398230088495\n",
      "9.352941176470589\n"
     ]
    }
   ],
   "source": [
    "print(mean(hashtagFullDict[\"embolization\"]))\n",
    "print(mean(hashtagFullDict[\"IR\"])) #Embolization vs IR"
   ]
  },
  {
   "cell_type": "code",
   "execution_count": 16,
   "metadata": {},
   "outputs": [
    {
     "data": {
      "text/plain": [
       "Ttest_indResult(statistic=-1.3192317226301213, pvalue=0.19105251088151712)"
      ]
     },
     "execution_count": 16,
     "metadata": {},
     "output_type": "execute_result"
    }
   ],
   "source": [
    "stats.ttest_ind(hashtagFullDict[\"embolization\"], hashtagFullDict[\"MedTwitter\"], trim=.2)"
   ]
  },
  {
   "cell_type": "code",
   "execution_count": 17,
   "metadata": {},
   "outputs": [
    {
     "name": "stdout",
     "output_type": "stream",
     "text": [
      "8.035398230088495\n",
      "8.266666666666667\n"
     ]
    }
   ],
   "source": [
    "print(mean(hashtagFullDict[\"embolization\"]))\n",
    "print(mean(hashtagFullDict[\"MedTwitter\"])) #Embolization vs IR"
   ]
  },
  {
   "cell_type": "code",
   "execution_count": 18,
   "metadata": {},
   "outputs": [
    {
     "name": "stdout",
     "output_type": "stream",
     "text": [
      "16.124476294673784\n",
      "8.811248222476499\n"
     ]
    }
   ],
   "source": [
    "print(stdev(hashtagFullDict[\"embolization\"]))\n",
    "print(stdev(hashtagFullDict[\"MedTwitter\"])) #Embolization vs IR"
   ]
  },
  {
   "cell_type": "markdown",
   "metadata": {},
   "source": [
    "More specific hashtags, related to conferences or papers, will get more engagement"
   ]
  },
  {
   "cell_type": "code",
   "execution_count": 19,
   "metadata": {},
   "outputs": [
    {
     "data": {
      "text/plain": [
       "Ttest_indResult(statistic=-4.53846255758433, pvalue=2.0557960394235194e-05)"
      ]
     },
     "execution_count": 19,
     "metadata": {},
     "output_type": "execute_result"
    }
   ],
   "source": [
    "stats.ttest_ind(hashtagFullDict[\"embolization\"], hashtagFullDict[\"SNIS2022\"], trim=.2)"
   ]
  },
  {
   "cell_type": "code",
   "execution_count": 20,
   "metadata": {},
   "outputs": [
    {
     "name": "stdout",
     "output_type": "stream",
     "text": [
      "8.035398230088495\n",
      "40.57142857142857\n"
     ]
    }
   ],
   "source": [
    "print(mean(hashtagFullDict[\"embolization\"]))\n",
    "print(mean(hashtagFullDict[\"SNIS2022\"])) #Embolization vs IR"
   ]
  },
  {
   "cell_type": "code",
   "execution_count": 21,
   "metadata": {},
   "outputs": [
    {
     "name": "stdout",
     "output_type": "stream",
     "text": [
      "16.124476294673784\n",
      "90.79115026825559\n"
     ]
    }
   ],
   "source": [
    "print(stdev(hashtagFullDict[\"embolization\"]))\n",
    "print(stdev(hashtagFullDict[\"SNIS2022\"])) #Embolization vs IR"
   ]
  },
  {
   "cell_type": "code",
   "execution_count": 22,
   "metadata": {},
   "outputs": [
    {
     "data": {
      "text/plain": [
       "Ttest_indResult(statistic=-2.888233807723638, pvalue=0.0051134101983464275)"
      ]
     },
     "execution_count": 22,
     "metadata": {},
     "output_type": "execute_result"
    }
   ],
   "source": [
    "stats.ttest_ind(hashtagFullDict[\"embolization\"], hashtagFullDict[\"CIRSE2022\"], trim=.2)"
   ]
  },
  {
   "cell_type": "code",
   "execution_count": 23,
   "metadata": {},
   "outputs": [
    {
     "name": "stdout",
     "output_type": "stream",
     "text": [
      "8.035398230088495\n",
      "17.857142857142858\n"
     ]
    }
   ],
   "source": [
    "print(mean(hashtagFullDict[\"embolization\"]))\n",
    "print(mean(hashtagFullDict[\"CIRSE2022\"])) #Embolization vs IR"
   ]
  },
  {
   "cell_type": "code",
   "execution_count": 24,
   "metadata": {},
   "outputs": [
    {
     "name": "stdout",
     "output_type": "stream",
     "text": [
      "16.124476294673784\n",
      "22.534629435815532\n"
     ]
    }
   ],
   "source": [
    "print(stdev(hashtagFullDict[\"embolization\"]))\n",
    "print(stdev(hashtagFullDict[\"CIRSE2022\"])) #Embolization vs IR"
   ]
  },
  {
   "cell_type": "markdown",
   "metadata": {},
   "source": [
    "### Articles or Images"
   ]
  },
  {
   "cell_type": "code",
   "execution_count": 25,
   "metadata": {},
   "outputs": [
    {
     "name": "stdout",
     "output_type": "stream",
     "text": [
      "https://www.frontiersin.org/articles/10.3389/fneur.2022.1009914?utm_source=S-TWT&amp;utm_medium=SNET&amp;utm_campaign=ECO_FNEUR_XXXXXXXX_auto-dlvrit\n"
     ]
    }
   ],
   "source": [
    "def get_original_twitter_url(twitter_url):\n",
    "    # without masking it as a browser request, it wont work properly\n",
    "    headers = {'User-Agent': 'Mozilla/5.0 (Macintosh; Intel Mac OS X 10_10_1) AppleWebKit/537.36 (KHTML, like Gecko) Chrome/39.0.2171.95 Safari/537.36'}\n",
    "    r = requests.get(url = twitter_url,headers=headers)\n",
    "    data = r.text\n",
    "    try:\n",
    "        url = re.search(\"(?P<url>https?://[^\\s]+)\\\"\", data).group(\"url\")\n",
    "        return url\n",
    "    except:\n",
    "        return \"nothing\"\n",
    "print(get_original_twitter_url('https://t.co/ESwzZO0ncA'))"
   ]
  },
  {
   "cell_type": "code",
   "execution_count": 26,
   "metadata": {},
   "outputs": [
    {
     "name": "stdout",
     "output_type": "stream",
     "text": [
      "[1, 1, 1, 4, 0, 0, 0, 0, 0, 0, 0, 1, 1, 0, 18, 5, 0, 26, 12, 14, 13, 0, 0, 2, 1, 0, 0, 5, 38, 2, 19, 1, 2, 0, 4, 0, 0, 0, 0, 0, 0, 9, 0, 0, 0, 1, 0, 0, 0, 0, 6, 2, 0, 0, 5, 2, 0, 0, 3, 28, 15, 1, 1, 2, 0, 4]\n"
     ]
    }
   ],
   "source": [
    "numOfLikes = []\n",
    "for index, row in data[data['link'].notnull()].iterrows():\n",
    "    value = ('article' or 'report') in get_original_twitter_url(row['link'])\n",
    "    value1 = ('article' or 'report') in row.content\n",
    "    if value or value1:\n",
    "        numOfLikes.append(row['likes'])\n",
    "print(numOfLikes)\n"
   ]
  },
  {
   "cell_type": "code",
   "execution_count": 27,
   "metadata": {},
   "outputs": [
    {
     "data": {
      "text/plain": [
       "Ttest_indResult(statistic=-3.1648894081766095, pvalue=0.001652982461614633)"
      ]
     },
     "execution_count": 27,
     "metadata": {},
     "output_type": "execute_result"
    }
   ],
   "source": [
    "stats.ttest_ind(numOfLikes, data[data['images'] != \"[]\"][\"likes\"].values, trim=.2)"
   ]
  },
  {
   "cell_type": "code",
   "execution_count": 28,
   "metadata": {},
   "outputs": [
    {
     "name": "stdout",
     "output_type": "stream",
     "text": [
      "15\n",
      "3.787878787878788\n"
     ]
    }
   ],
   "source": [
    "print(mean(data[data['images'] != \"[]\"][\"likes\"].values)) #Images get more likes than articles...\n",
    "print(mean(numOfLikes))"
   ]
  }
 ],
 "metadata": {
  "kernelspec": {
   "display_name": "Python 3.9.13 ('base')",
   "language": "python",
   "name": "python3"
  },
  "language_info": {
   "codemirror_mode": {
    "name": "ipython",
    "version": 3
   },
   "file_extension": ".py",
   "mimetype": "text/x-python",
   "name": "python",
   "nbconvert_exporter": "python",
   "pygments_lexer": "ipython3",
   "version": "3.9.13"
  },
  "orig_nbformat": 4,
  "vscode": {
   "interpreter": {
    "hash": "37739ec89c381e15cc4f2ac737493834b1272f3324038a760cff1d1bf5c535bd"
   }
  }
 },
 "nbformat": 4,
 "nbformat_minor": 2
}
