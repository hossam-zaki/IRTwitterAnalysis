{
 "cells": [
  {
   "cell_type": "markdown",
   "metadata": {},
   "source": [
    "# Ablation Twitter Analysis"
   ]
  },
  {
   "cell_type": "code",
   "execution_count": 1,
   "metadata": {},
   "outputs": [],
   "source": [
    "import numpy as np # Imports\n",
    "import pandas as pd\n",
    "from scipy import stats\n",
    "from statistics import mean, stdev\n",
    "import requests\n",
    "import re\n",
    "import ast\n"
   ]
  },
  {
   "cell_type": "code",
   "execution_count": 2,
   "metadata": {},
   "outputs": [],
   "source": [
    "data = pd.read_csv('ablation_full.csv') #Reading in the CSV\n",
    "data.hashtags = data.hashtags.apply(lambda s: list(ast.literal_eval(s)))"
   ]
  },
  {
   "cell_type": "code",
   "execution_count": 3,
   "metadata": {},
   "outputs": [
    {
     "data": {
      "text/plain": [
       "Index(['tweet_id', 'username', 'name', 'profile_picture', 'replies',\n",
       "       'retweets', 'likes', 'is_retweet', 'posted_time', 'content', 'hashtags',\n",
       "       'mentions', 'images', 'videos', 'tweet_url', 'link'],\n",
       "      dtype='object')"
      ]
     },
     "execution_count": 3,
     "metadata": {},
     "output_type": "execute_result"
    }
   ],
   "source": [
    "data.columns #Columns in the CSV"
   ]
  },
  {
   "cell_type": "code",
   "execution_count": 4,
   "metadata": {},
   "outputs": [
    {
     "data": {
      "text/html": [
       "<div>\n",
       "<style scoped>\n",
       "    .dataframe tbody tr th:only-of-type {\n",
       "        vertical-align: middle;\n",
       "    }\n",
       "\n",
       "    .dataframe tbody tr th {\n",
       "        vertical-align: top;\n",
       "    }\n",
       "\n",
       "    .dataframe thead th {\n",
       "        text-align: right;\n",
       "    }\n",
       "</style>\n",
       "<table border=\"1\" class=\"dataframe\">\n",
       "  <thead>\n",
       "    <tr style=\"text-align: right;\">\n",
       "      <th></th>\n",
       "      <th>tweet_id</th>\n",
       "      <th>username</th>\n",
       "      <th>name</th>\n",
       "      <th>profile_picture</th>\n",
       "      <th>replies</th>\n",
       "      <th>retweets</th>\n",
       "      <th>likes</th>\n",
       "      <th>is_retweet</th>\n",
       "      <th>posted_time</th>\n",
       "      <th>content</th>\n",
       "      <th>hashtags</th>\n",
       "      <th>mentions</th>\n",
       "      <th>images</th>\n",
       "      <th>videos</th>\n",
       "      <th>tweet_url</th>\n",
       "      <th>link</th>\n",
       "    </tr>\n",
       "  </thead>\n",
       "  <tbody>\n",
       "    <tr>\n",
       "      <th>0</th>\n",
       "      <td>1579259974756491264</td>\n",
       "      <td>Cajsa</td>\n",
       "      <td>Cajsa</td>\n",
       "      <td>https://pbs.twimg.com/profile_images/129364594...</td>\n",
       "      <td>0</td>\n",
       "      <td>0</td>\n",
       "      <td>1</td>\n",
       "      <td>False</td>\n",
       "      <td>2022-10-09T23:58:13+00:00</td>\n",
       "      <td>I am hoping it will heal fast so I don't have ...</td>\n",
       "      <td>[]</td>\n",
       "      <td>[]</td>\n",
       "      <td>[]</td>\n",
       "      <td>[]</td>\n",
       "      <td>https://twitter.com/Cajsa/status/1579259974756...</td>\n",
       "      <td>NaN</td>\n",
       "    </tr>\n",
       "    <tr>\n",
       "      <th>1</th>\n",
       "      <td>1579258665894547456</td>\n",
       "      <td>EpFinishing</td>\n",
       "      <td>EPFinishingSchool</td>\n",
       "      <td>https://pbs.twimg.com/profile_images/151258340...</td>\n",
       "      <td>0</td>\n",
       "      <td>2</td>\n",
       "      <td>7</td>\n",
       "      <td>False</td>\n",
       "      <td>2022-10-09T23:53:01+00:00</td>\n",
       "      <td>Meet our Judges for #EPFinishing22 Present you...</td>\n",
       "      <td>[EPFinishing22]</td>\n",
       "      <td>['utedrow', 'markalink', 'LuigiDiBiaseMD', 'sh...</td>\n",
       "      <td>['https://pbs.twimg.com/media/FeqnYvzXoAYkb6x?...</td>\n",
       "      <td>[]</td>\n",
       "      <td>https://twitter.com/EpFinishing/status/1579258...</td>\n",
       "      <td>NaN</td>\n",
       "    </tr>\n",
       "    <tr>\n",
       "      <th>2</th>\n",
       "      <td>1579258489876393984</td>\n",
       "      <td>RavindraSoni1</td>\n",
       "      <td>Ravindra Soni, editor, businessfortnight.com</td>\n",
       "      <td>https://pbs.twimg.com/profile_images/809424050...</td>\n",
       "      <td>0</td>\n",
       "      <td>0</td>\n",
       "      <td>0</td>\n",
       "      <td>False</td>\n",
       "      <td>2022-10-09T23:52:19+00:00</td>\n",
       "      <td>CLS Americas Present Fusion-Guided Focal Laser...</td>\n",
       "      <td>[]</td>\n",
       "      <td>[]</td>\n",
       "      <td>[]</td>\n",
       "      <td>[]</td>\n",
       "      <td>https://twitter.com/RavindraSoni1/status/15792...</td>\n",
       "      <td>https://t.co/sRIYJq8FPV</td>\n",
       "    </tr>\n",
       "    <tr>\n",
       "      <th>3</th>\n",
       "      <td>1579256691643731968</td>\n",
       "      <td>Koichi16423232</td>\n",
       "      <td>こうちゃん Koichi Nagashima @EP Univ. Ablation School</td>\n",
       "      <td>https://pbs.twimg.com/profile_images/157933116...</td>\n",
       "      <td>1</td>\n",
       "      <td>0</td>\n",
       "      <td>4</td>\n",
       "      <td>False</td>\n",
       "      <td>2022-10-09T23:45:11+00:00</td>\n",
       "      <td>すごいですねぇ\\nそうですそうです！！真実に辿り着くにはまだ時間がかかりますけど</td>\n",
       "      <td>[]</td>\n",
       "      <td>[]</td>\n",
       "      <td>[]</td>\n",
       "      <td>[]</td>\n",
       "      <td>https://twitter.com/Koichi16423232/status/1579...</td>\n",
       "      <td>NaN</td>\n",
       "    </tr>\n",
       "    <tr>\n",
       "      <th>4</th>\n",
       "      <td>1579253919288786944</td>\n",
       "      <td>Spiculus_nero</td>\n",
       "      <td>Abdul Mazagri ⵣ.</td>\n",
       "      <td>https://pbs.twimg.com/profile_images/156919634...</td>\n",
       "      <td>0</td>\n",
       "      <td>0</td>\n",
       "      <td>0</td>\n",
       "      <td>False</td>\n",
       "      <td>2022-10-09T23:34:10+00:00</td>\n",
       "      <td>An ultrasound showed I had fibroids, and a lot...</td>\n",
       "      <td>[]</td>\n",
       "      <td>[]</td>\n",
       "      <td>[]</td>\n",
       "      <td>[]</td>\n",
       "      <td>https://twitter.com/Spiculus_nero/status/15792...</td>\n",
       "      <td>NaN</td>\n",
       "    </tr>\n",
       "  </tbody>\n",
       "</table>\n",
       "</div>"
      ],
      "text/plain": [
       "              tweet_id        username  \\\n",
       "0  1579259974756491264           Cajsa   \n",
       "1  1579258665894547456     EpFinishing   \n",
       "2  1579258489876393984   RavindraSoni1   \n",
       "3  1579256691643731968  Koichi16423232   \n",
       "4  1579253919288786944   Spiculus_nero   \n",
       "\n",
       "                                               name  \\\n",
       "0                                             Cajsa   \n",
       "1                                 EPFinishingSchool   \n",
       "2      Ravindra Soni, editor, businessfortnight.com   \n",
       "3  こうちゃん Koichi Nagashima @EP Univ. Ablation School   \n",
       "4                                  Abdul Mazagri ⵣ.   \n",
       "\n",
       "                                     profile_picture  replies  retweets  \\\n",
       "0  https://pbs.twimg.com/profile_images/129364594...        0         0   \n",
       "1  https://pbs.twimg.com/profile_images/151258340...        0         2   \n",
       "2  https://pbs.twimg.com/profile_images/809424050...        0         0   \n",
       "3  https://pbs.twimg.com/profile_images/157933116...        1         0   \n",
       "4  https://pbs.twimg.com/profile_images/156919634...        0         0   \n",
       "\n",
       "   likes  is_retweet                posted_time  \\\n",
       "0      1       False  2022-10-09T23:58:13+00:00   \n",
       "1      7       False  2022-10-09T23:53:01+00:00   \n",
       "2      0       False  2022-10-09T23:52:19+00:00   \n",
       "3      4       False  2022-10-09T23:45:11+00:00   \n",
       "4      0       False  2022-10-09T23:34:10+00:00   \n",
       "\n",
       "                                             content         hashtags  \\\n",
       "0  I am hoping it will heal fast so I don't have ...               []   \n",
       "1  Meet our Judges for #EPFinishing22 Present you...  [EPFinishing22]   \n",
       "2  CLS Americas Present Fusion-Guided Focal Laser...               []   \n",
       "3           すごいですねぇ\\nそうですそうです！！真実に辿り着くにはまだ時間がかかりますけど               []   \n",
       "4  An ultrasound showed I had fibroids, and a lot...               []   \n",
       "\n",
       "                                            mentions  \\\n",
       "0                                                 []   \n",
       "1  ['utedrow', 'markalink', 'LuigiDiBiaseMD', 'sh...   \n",
       "2                                                 []   \n",
       "3                                                 []   \n",
       "4                                                 []   \n",
       "\n",
       "                                              images videos  \\\n",
       "0                                                 []     []   \n",
       "1  ['https://pbs.twimg.com/media/FeqnYvzXoAYkb6x?...     []   \n",
       "2                                                 []     []   \n",
       "3                                                 []     []   \n",
       "4                                                 []     []   \n",
       "\n",
       "                                           tweet_url                     link  \n",
       "0  https://twitter.com/Cajsa/status/1579259974756...                      NaN  \n",
       "1  https://twitter.com/EpFinishing/status/1579258...                      NaN  \n",
       "2  https://twitter.com/RavindraSoni1/status/15792...  https://t.co/sRIYJq8FPV  \n",
       "3  https://twitter.com/Koichi16423232/status/1579...                      NaN  \n",
       "4  https://twitter.com/Spiculus_nero/status/15792...                      NaN  "
      ]
     },
     "execution_count": 4,
     "metadata": {},
     "output_type": "execute_result"
    }
   ],
   "source": [
    "data.head() #Sample the top of the CSV"
   ]
  },
  {
   "cell_type": "markdown",
   "metadata": {},
   "source": [
    "## 2 Sided T-tests "
   ]
  },
  {
   "cell_type": "markdown",
   "metadata": {},
   "source": [
    "Comparing the amount of likes with an image attached or no image, and there is a significant change"
   ]
  },
  {
   "cell_type": "code",
   "execution_count": 5,
   "metadata": {},
   "outputs": [
    {
     "data": {
      "text/plain": [
       "Ttest_indResult(statistic=-15.242365850673801, pvalue=8.816514027296647e-50)"
      ]
     },
     "execution_count": 5,
     "metadata": {},
     "output_type": "execute_result"
    }
   ],
   "source": [
    "stats.ttest_ind(data['likes'].values, data[data['images'] != \"[]\"][\"likes\"].values, trim=.2) #Evaluating if there is a significant change in the amount of likes if you include an image, and there the ttest is statistically significant"
   ]
  },
  {
   "cell_type": "code",
   "execution_count": 6,
   "metadata": {},
   "outputs": [
    {
     "name": "stdout",
     "output_type": "stream",
     "text": [
      "9\n",
      "21\n"
     ]
    }
   ],
   "source": [
    "print(mean(data['likes'].values))\n",
    "print(mean(data[data['images'] != \"[]\"][\"likes\"].values)) #Shows that the mean of the amount of likes is much higher with images"
   ]
  },
  {
   "cell_type": "markdown",
   "metadata": {},
   "source": [
    "Comparing the amount of likes with hashtags, and there is a significant change"
   ]
  },
  {
   "cell_type": "code",
   "execution_count": 7,
   "metadata": {},
   "outputs": [
    {
     "data": {
      "text/plain": [
       "Ttest_indResult(statistic=-11.91886184819754, pvalue=1.080273208209551e-31)"
      ]
     },
     "execution_count": 7,
     "metadata": {},
     "output_type": "execute_result"
    }
   ],
   "source": [
    "stats.ttest_ind(data['likes'].values, data[data['hashtags'].map(len) > 0][\"likes\"].values, trim=.2)"
   ]
  },
  {
   "cell_type": "code",
   "execution_count": 8,
   "metadata": {},
   "outputs": [
    {
     "name": "stdout",
     "output_type": "stream",
     "text": [
      "9\n",
      "12\n"
     ]
    }
   ],
   "source": [
    "print(mean(data['likes'].values))\n",
    "print(mean(data[data['hashtags'].map(len) > 0][\"likes\"].values)) #Shows that tweets with more hashtags get more lieks"
   ]
  },
  {
   "cell_type": "markdown",
   "metadata": {},
   "source": [
    "### Hashtags"
   ]
  },
  {
   "cell_type": "code",
   "execution_count": 9,
   "metadata": {},
   "outputs": [],
   "source": [
    "hashtagDict = {} # Getting the hashtags and the amount of likes they have, eliminating hashtags with just one tweet\n",
    "\n",
    "for index, row in data.iterrows():\n",
    "    for hashtag in row['hashtags']:\n",
    "        if hashtag in hashtagDict:\n",
    "            hashtagDict[hashtag].append(row['likes'])\n",
    "        else:\n",
    "            hashtagDict[hashtag] = [row['likes']]\n",
    "\n",
    "hashtagDictFil = {}\n",
    "for item in hashtagDict:\n",
    "    if len(hashtagDict[item]) > 1:\n",
    "        hashtagDictFil[item] = sum(hashtagDict[item])"
   ]
  },
  {
   "cell_type": "code",
   "execution_count": 10,
   "metadata": {},
   "outputs": [
    {
     "data": {
      "text/plain": [
       "{'EPeeps': 1511,\n",
       " 'CardioTwitter': 342,\n",
       " 'Epeeps': 294,\n",
       " 'ablation': 257,\n",
       " 'EPLuebeck': 175,\n",
       " 'Cardiotwitter': 160,\n",
       " 'epeeps': 144,\n",
       " 'AblateVT': 121,\n",
       " 'JACCCaseReports': 116,\n",
       " 'Ablation': 109,\n",
       " 'IRad': 90,\n",
       " 'cancer': 89,\n",
       " 'Cardiology': 86,\n",
       " 'AFib': 85,\n",
       " 'AHAJournals': 83,\n",
       " 'GlobalEPSummit': 83,\n",
       " 'RoboticEP': 82,\n",
       " 'AI': 80,\n",
       " 'backpain': 78,\n",
       " 'Octaray': 76,\n",
       " 'cardiotwitter': 69,\n",
       " 'HRC2022': 66,\n",
       " 'EpilepsyAwareness': 65,\n",
       " 'Afib': 64,\n",
       " 'EPFinishing22': 60,\n",
       " 'atrialfibrillation': 60,\n",
       " 'MedTwitter': 52,\n",
       " 'GCOS22': 52,\n",
       " 'irad': 51,\n",
       " 'WPW': 50,\n",
       " 'afib': 49,\n",
       " 'Volta': 49,\n",
       " 'Mapping': 49,\n",
       " 'FreeRead': 46,\n",
       " 'EP大学': 43,\n",
       " 'cardiology': 42,\n",
       " 'EACTS2022': 40,\n",
       " 'glioblastoma': 40,\n",
       " 'VTSymposium': 39,\n",
       " 'electrophysiology': 35,\n",
       " 'AF': 34,\n",
       " 'AFibAwarenessMonth': 31,\n",
       " 'Catheter': 31,\n",
       " 'PediRhythmX': 31,\n",
       " 'biosense': 30,\n",
       " 'arrhythmia': 29,\n",
       " 'DGKHerztage': 29,\n",
       " 'PedirhythmX': 29,\n",
       " 'research': 28,\n",
       " 'DGK_Herztage_Bonn_2022': 28,\n",
       " 'thyroid': 28,\n",
       " 'interventionaloncology': 25,\n",
       " 'ProstateCancer': 24,\n",
       " 'ablateVT': 23,\n",
       " 'SCRN2022': 23,\n",
       " 'glacier': 22,\n",
       " 'WCET22': 22,\n",
       " 'cardiovascular': 21,\n",
       " 'FOCAL2022': 21,\n",
       " 'Radiofrequency': 20,\n",
       " 'pain': 20,\n",
       " 'catheterablation': 19,\n",
       " 'AtrialFibrillation': 19,\n",
       " 'IRE': 19,\n",
       " 'PFA': 18,\n",
       " 'Medicare': 18,\n",
       " 'CIO2022': 17,\n",
       " 'Furdad': 16,\n",
       " 'jvir': 16,\n",
       " 'CardiacAblation': 16,\n",
       " 'HCM22': 15,\n",
       " 'DiamondTemp': 15,\n",
       " 'surgery': 14,\n",
       " 'endometriosis': 12,\n",
       " 'AFIB': 12,\n",
       " 'COVID19': 12,\n",
       " 'VT': 12,\n",
       " 'RADIANCEII': 11,\n",
       " 'TCT2022': 11,\n",
       " 'VTS2022': 10,\n",
       " 'microwave': 10,\n",
       " 'EPLab': 10,\n",
       " 'ipics2022': 10,\n",
       " 'zerofluoro': 9,\n",
       " 'ecomicrowavechina': 8,\n",
       " 'HCC': 8,\n",
       " 'ChronicPain': 8,\n",
       " 'ipics22': 8,\n",
       " 'oncology': 8,\n",
       " 'ACCAdvocacy': 8,\n",
       " 'BP': 8,\n",
       " 'CTSurgery': 7,\n",
       " 'BSCEMEA': 7,\n",
       " 'VivaEP': 7,\n",
       " 'BPH': 6,\n",
       " 'minimallyinvasive': 6,\n",
       " 'nanoparticles': 6,\n",
       " 'MedEd': 6,\n",
       " 'immunology': 6,\n",
       " 'tachycardia': 6,\n",
       " 'RFablation': 6,\n",
       " 'microwaveablation': 5,\n",
       " 'IR': 5,\n",
       " 'medtech': 5,\n",
       " 'AFIBawarenessmonth2022': 5,\n",
       " 'joinCHART': 5,\n",
       " 'CardiacEP': 5,\n",
       " 'strokerisk': 5,\n",
       " 'ekg': 5,\n",
       " 'CHARTcoach': 5,\n",
       " 'CEU': 5,\n",
       " 'CCMA': 5,\n",
       " 'thyroidhealth': 5,\n",
       " 'cvEP': 5,\n",
       " 'Cancer': 4,\n",
       " 'thyroidtumor': 4,\n",
       " 'thermalablation': 4,\n",
       " 'PVI': 4,\n",
       " 'OA': 4,\n",
       " 'Interventional': 4,\n",
       " 'manufacturing': 4,\n",
       " 'GITwitter': 4,\n",
       " 'Hepatology': 4,\n",
       " 'Radiology': 4,\n",
       " 'Ultrasound': 4,\n",
       " 'interventionalradiology': 4,\n",
       " 'radiology': 3,\n",
       " 'SABERWAVE': 3,\n",
       " 'AcQMap': 3,\n",
       " 'AcutusMedical': 3,\n",
       " 'MedtronicEmployee': 3,\n",
       " 'Healthcare': 3,\n",
       " 'MedNews': 3,\n",
       " 'tumor': 3,\n",
       " 'endocrinologists': 3,\n",
       " 'surgeon': 3,\n",
       " 'varicoseveins': 3,\n",
       " 'casesharing': 2,\n",
       " 'newtechnology': 2,\n",
       " 'Intracept': 2,\n",
       " 'laser': 2,\n",
       " 'EKG': 2,\n",
       " 'technology': 2,\n",
       " 'AtriCureCareers': 1,\n",
       " 'CardiacAblationSpecialist': 1,\n",
       " 'BeyondTheAbstract': 1,\n",
       " 'mdpijcdd': 1,\n",
       " 'cushings': 1,\n",
       " 'cortisol': 1,\n",
       " 'aging': 1,\n",
       " 'FDA': 1,\n",
       " 'snoring': 0,\n",
       " 'bioRxiv': 0,\n",
       " 'Chasseursdescience': 0,\n",
       " 'SpinalSurgery': 0,\n",
       " 'gastroenterology': 0,\n",
       " 'feed': 0,\n",
       " 'Chrome': 0,\n",
       " 'Discover': 0,\n",
       " 'Android': 0,\n",
       " 'MedPub': 0,\n",
       " 'Science': 0,\n",
       " 'VaricoseVeins': 0,\n",
       " 'painrelief': 0,\n",
       " 'remotejob': 0,\n",
       " 'remotework': 0,\n",
       " 'wfh': 0,\n",
       " 'preprints': 0,\n",
       " 'Elesta': 0,\n",
       " 'laserablation': 0,\n",
       " 'Nationalultrasound': 0,\n",
       " 'SupplyChains': 0,\n",
       " 'Esmya': 0,\n",
       " 'biotech': 0,\n",
       " 'cancerawareness': 0,\n",
       " 'avendahealth': 0,\n",
       " 'invest': 0,\n",
       " 'vcapital': 0}"
      ]
     },
     "execution_count": 10,
     "metadata": {},
     "output_type": "execute_result"
    }
   ],
   "source": [
    "{k: v for k, v in sorted(hashtagDictFil.items(), key=lambda item: item[1], reverse=True)}"
   ]
  },
  {
   "cell_type": "code",
   "execution_count": 11,
   "metadata": {},
   "outputs": [],
   "source": [
    "hashtagFullDict = {} #Getting the number of likes per tweet with the hashtag\n",
    "\n",
    "for index, row in data.iterrows():\n",
    "    for hashtag in row['hashtags']:\n",
    "        if hashtag in hashtagFullDict:\n",
    "            hashtagFullDict[hashtag].append(row['likes'])\n",
    "        else:\n",
    "            hashtagFullDict[hashtag] = [row['likes']]"
   ]
  },
  {
   "cell_type": "markdown",
   "metadata": {},
   "source": [
    "Shows that general hashtags don't work (CardioTwitter or Cardiology) won't get as much traction as just putting the topic as the hashtag"
   ]
  },
  {
   "cell_type": "code",
   "execution_count": 12,
   "metadata": {},
   "outputs": [
    {
     "data": {
      "text/plain": [
       "Ttest_indResult(statistic=0.10788928630762189, pvalue=0.9146366657061062)"
      ]
     },
     "execution_count": 12,
     "metadata": {},
     "output_type": "execute_result"
    }
   ],
   "source": [
    "stats.ttest_ind(hashtagFullDict[\"ablation\"], hashtagFullDict[\"CardioTwitter\"], trim=.2) "
   ]
  },
  {
   "cell_type": "code",
   "execution_count": 13,
   "metadata": {},
   "outputs": [
    {
     "data": {
      "text/plain": [
       "Ttest_indResult(statistic=0.19597769971510595, pvalue=0.8459490878264727)"
      ]
     },
     "execution_count": 13,
     "metadata": {},
     "output_type": "execute_result"
    }
   ],
   "source": [
    "stats.ttest_ind(hashtagFullDict[\"ablation\"], hashtagFullDict[\"Cardiology\"], trim=.2)"
   ]
  },
  {
   "cell_type": "markdown",
   "metadata": {},
   "source": [
    "Shows that specifics do work"
   ]
  },
  {
   "cell_type": "code",
   "execution_count": 14,
   "metadata": {},
   "outputs": [
    {
     "data": {
      "text/plain": [
       "Ttest_indResult(statistic=-6.330069535964719, pvalue=8.908264254127928e-07)"
      ]
     },
     "execution_count": 14,
     "metadata": {},
     "output_type": "execute_result"
    }
   ],
   "source": [
    "stats.ttest_ind(hashtagFullDict[\"ablation\"], hashtagFullDict[\"JACCCaseReports\"], trim=.2)"
   ]
  },
  {
   "cell_type": "code",
   "execution_count": 15,
   "metadata": {},
   "outputs": [
    {
     "name": "stdout",
     "output_type": "stream",
     "text": [
      "6.119047619047619\n",
      "38.666666666666664\n"
     ]
    }
   ],
   "source": [
    "print(mean(hashtagFullDict[\"ablation\"]))\n",
    "print(mean(hashtagFullDict[\"JACCCaseReports\"])) #ablation vs JACCCAseReports"
   ]
  },
  {
   "cell_type": "code",
   "execution_count": 16,
   "metadata": {},
   "outputs": [
    {
     "data": {
      "text/plain": [
       "Ttest_indResult(statistic=-5.366374114151326, pvalue=1.2811781304466585e-05)"
      ]
     },
     "execution_count": 16,
     "metadata": {},
     "output_type": "execute_result"
    }
   ],
   "source": [
    "stats.ttest_ind(hashtagFullDict[\"ablation\"], hashtagFullDict[\"AHAJournals\"], trim=.2)"
   ]
  },
  {
   "cell_type": "code",
   "execution_count": 17,
   "metadata": {},
   "outputs": [
    {
     "name": "stdout",
     "output_type": "stream",
     "text": [
      "6.119047619047619\n",
      "41.5\n"
     ]
    }
   ],
   "source": [
    "print(mean(hashtagFullDict[\"ablation\"]))\n",
    "print(mean(hashtagFullDict[\"AHAJournals\"])) #ablation vs AHAJournals"
   ]
  },
  {
   "cell_type": "markdown",
   "metadata": {},
   "source": [
    "### Articles or Images"
   ]
  },
  {
   "cell_type": "code",
   "execution_count": 18,
   "metadata": {},
   "outputs": [
    {
     "name": "stdout",
     "output_type": "stream",
     "text": [
      "https://www.frontiersin.org/articles/10.3389/fneur.2022.1009914?utm_source=S-TWT&amp;utm_medium=SNET&amp;utm_campaign=ECO_FNEUR_XXXXXXXX_auto-dlvrit\n"
     ]
    }
   ],
   "source": [
    "def get_original_twitter_url(twitter_url):\n",
    "    # without masking it as a browser request, it wont work properly\n",
    "    headers = {'User-Agent': 'Mozilla/5.0 (Macintosh; Intel Mac OS X 10_10_1) AppleWebKit/537.36 (KHTML, like Gecko) Chrome/39.0.2171.95 Safari/537.36'}\n",
    "    r = requests.get(url = twitter_url,headers=headers)\n",
    "    data = r.text\n",
    "    try:\n",
    "        url = re.search(\"(?P<url>https?://[^\\s]+)\\\"\", data).group(\"url\")\n",
    "        return url\n",
    "    except:\n",
    "        return \"nothing\"\n",
    "print(get_original_twitter_url('https://t.co/ESwzZO0ncA'))"
   ]
  },
  {
   "cell_type": "code",
   "execution_count": 19,
   "metadata": {},
   "outputs": [
    {
     "name": "stdout",
     "output_type": "stream",
     "text": [
      "[0, 19, 0, 5, 0, 2, 5, 2, 4, 1, 0, 1, 0, 15, 0, 3, 20, 0, 20, 10, 38, 0, 12, 1, 1, 0, 5, 2, 8, 10, 0, 5, 15, 1, 0, 4, 1, 4, 0, 0, 12, 4, 5, 0, 167, 0, 15, 8, 1, 0, 0, 2, 10, 7, 16, 6, 8, 2, 0, 1, 1, 0, 7, 2, 0]\n"
     ]
    }
   ],
   "source": [
    "numOfLikes = []\n",
    "for index, row in data[data['link'].notnull()].iterrows():\n",
    "    value = ('article' or 'report') in get_original_twitter_url(row['link'])\n",
    "    value1 = ('article' or 'report') in row.content\n",
    "    if value or value1:\n",
    "        numOfLikes.append(row['likes'])\n",
    "print(numOfLikes)\n"
   ]
  },
  {
   "cell_type": "code",
   "execution_count": 20,
   "metadata": {},
   "outputs": [
    {
     "data": {
      "text/plain": [
       "Ttest_indResult(statistic=-1.7380882420634858, pvalue=0.08291615425841296)"
      ]
     },
     "execution_count": 20,
     "metadata": {},
     "output_type": "execute_result"
    }
   ],
   "source": [
    "stats.ttest_ind(numOfLikes, data[data['images'] != \"[]\"][\"likes\"].values, trim=.2) #Shows that images and number of likes don't have a significant change"
   ]
  },
  {
   "cell_type": "code",
   "execution_count": 21,
   "metadata": {},
   "outputs": [
    {
     "name": "stdout",
     "output_type": "stream",
     "text": [
      "21\n",
      "7.507692307692308\n"
     ]
    }
   ],
   "source": [
    "print(mean(data[data['images'] != \"[]\"][\"likes\"].values))\n",
    "print(mean(numOfLikes))"
   ]
  },
  {
   "cell_type": "code",
   "execution_count": 22,
   "metadata": {},
   "outputs": [
    {
     "name": "stdout",
     "output_type": "stream",
     "text": [
      "141.9506956657839\n",
      "21.25229625602481\n"
     ]
    }
   ],
   "source": [
    "print(stdev(data[data['images'] != \"[]\"][\"likes\"].values)) #The mean of the number of likes with images is much higher than number of likes, but has a high variance\n",
    "print(stdev(numOfLikes))"
   ]
  },
  {
   "cell_type": "code",
   "execution_count": null,
   "metadata": {},
   "outputs": [],
   "source": []
  }
 ],
 "metadata": {
  "kernelspec": {
   "display_name": "Python 3.9.13 ('base')",
   "language": "python",
   "name": "python3"
  },
  "language_info": {
   "codemirror_mode": {
    "name": "ipython",
    "version": 3
   },
   "file_extension": ".py",
   "mimetype": "text/x-python",
   "name": "python",
   "nbconvert_exporter": "python",
   "pygments_lexer": "ipython3",
   "version": "3.9.13"
  },
  "orig_nbformat": 4,
  "vscode": {
   "interpreter": {
    "hash": "37739ec89c381e15cc4f2ac737493834b1272f3324038a760cff1d1bf5c535bd"
   }
  }
 },
 "nbformat": 4,
 "nbformat_minor": 2
}
